{
  "nbformat": 4,
  "nbformat_minor": 0,
  "metadata": {
    "colab": {
      "provenance": []
    },
    "kernelspec": {
      "name": "python3",
      "display_name": "Python 3"
    },
    "language_info": {
      "name": "python"
    }
  },
  "cells": [
    {
      "cell_type": "code",
      "execution_count": null,
      "metadata": {
        "id": "2lysGTeYcA9D"
      },
      "outputs": [],
      "source": [
        "import nltk\n",
        "from nltk.tokenize import sent_tokenize, word_tokenize\n",
        "from nltk.corpus import stopwords\n",
        "from nltk.probability import FreqDist\n",
        "from nltk.sentiment.vader import SentimentIntensityAnalyzer\n",
        "from nltk.tokenize import RegexpTokenizer\n"
      ]
    },
    {
      "cell_type": "code",
      "source": [
        "# Download NLTK resources\n",
        "nltk.download('punkt')\n",
        "nltk.download('stopwords')\n",
        "nltk.download('vader_lexicon')"
      ],
      "metadata": {
        "colab": {
          "base_uri": "https://localhost:8080/"
        },
        "id": "vsc00HcWcEJw",
        "outputId": "00f43f7c-8c88-413c-9cf4-b5ccd98080b3"
      },
      "execution_count": null,
      "outputs": [
        {
          "output_type": "stream",
          "name": "stderr",
          "text": [
            "[nltk_data] Downloading package punkt to /root/nltk_data...\n",
            "[nltk_data]   Package punkt is already up-to-date!\n",
            "[nltk_data] Downloading package stopwords to /root/nltk_data...\n",
            "[nltk_data]   Package stopwords is already up-to-date!\n",
            "[nltk_data] Downloading package vader_lexicon to /root/nltk_data...\n",
            "[nltk_data]   Package vader_lexicon is already up-to-date!\n"
          ]
        },
        {
          "output_type": "execute_result",
          "data": {
            "text/plain": [
              "True"
            ]
          },
          "metadata": {},
          "execution_count": 12
        }
      ]
    },
    {
      "cell_type": "code",
      "source": [
        "def summarize_text(text):\n",
        "    # Tokenize the text into sentences\n",
        "    sentences = sent_tokenize(text)\n",
        "\n",
        "    # Calculate frequency of each word\n",
        "    word_frequencies = {}\n",
        "    for sentence in sentences:\n",
        "        words = word_tokenize(sentence.lower())\n",
        "        for word in words:\n",
        "            if word not in stopwords.words('english'):\n",
        "                if word not in word_frequencies:\n",
        "                    word_frequencies[word] = 1\n",
        "                else:\n",
        "                    word_frequencies[word] += 1\n",
        "\n",
        "    # Find weighted frequency of each word\n",
        "    max_frequency = max(word_frequencies.values())\n",
        "    for word in word_frequencies.keys():\n",
        "        word_frequencies[word] = (word_frequencies[word] / max_frequency)\n",
        "\n",
        "    # Calculate sentence scores based on word frequencies\n",
        "    sentence_scores = {}\n",
        "    for sentence in sentences:\n",
        "        for word in word_tokenize(sentence.lower()):\n",
        "            if word in word_frequencies.keys():\n",
        "                if len(sentence.split(' ')) < 30:  # Limiting sentence length\n",
        "                    if sentence not in sentence_scores.keys():\n",
        "                        sentence_scores[sentence] = word_frequencies[word]\n",
        "                    else:\n",
        "                        sentence_scores[sentence] += word_frequencies[word]\n",
        "\n",
        "    # Get the top 3 sentences as the summary\n",
        "    summary_sentences = sorted(sentence_scores, key=sentence_scores.get, reverse=True)[:3]\n",
        "    summary = ' '.join(summary_sentences)\n",
        "    return summary"
      ],
      "metadata": {
        "id": "tF8SbF4jcHql"
      },
      "execution_count": null,
      "outputs": []
    },
    {
      "cell_type": "code",
      "source": [
        "def analyze_bias_and_sentiment(summary):\n",
        "    # Sentiment Analysis\n",
        "    sid = SentimentIntensityAnalyzer()\n",
        "    sentiment_score = sid.polarity_scores(summary)\n",
        "    sentiment = \"Positive\" if sentiment_score['compound'] >= 0 else \"Negative\"\n",
        "\n",
        "    return sentiment, sentiment_score"
      ],
      "metadata": {
        "id": "3Znp-JD-cMDX"
      },
      "execution_count": null,
      "outputs": []
    },
    {
      "cell_type": "code",
      "source": [
        "# Example text\n",
        "input_text = input(\"\"\"\n",
        "Your input text goes here.\n",
        "\"\"\")\n",
        "\n",
        "# Summarize the input text\n",
        "summary = summarize_text(input_text)\n",
        "\n",
        "# Analyze bias and sentiment of the summary\n",
        "sentiment, sentiment_score = analyze_bias_and_sentiment(summary)\n",
        "\n",
        "print(\"Summary:\")\n",
        "print(summary)\n",
        "print(\"\\nSentiment:\", sentiment)\n",
        "print(\"Sentiment Score:\", sentiment_score)"
      ],
      "metadata": {
        "colab": {
          "base_uri": "https://localhost:8080/"
        },
        "id": "4aBd-YspcQS_",
        "outputId": "fd556121-b7eb-4aac-d014-5df58896cb41"
      },
      "execution_count": null,
      "outputs": [
        {
          "output_type": "stream",
          "name": "stdout",
          "text": [
            "\n",
            "Your input text goes here. This can be a long piece of text discussing a certain topic.\n",
            "Arizona prosecutors have tried for weeks – and so far failed – to serve Rudy Giuliani with notice of his indictment related to an alleged scheme to overturn the 2020 election results in that state. Giuliani is among a group of former President Donald Trump’s allies indicted last month in Arizona alongside the 11 individuals who acted as fake GOP electors from the state in the last presidential election. But the former New York City mayor and one-time attorney for Trump is the only defendant prosecutors have been unable to serve with a summons, according to Richie Taylor, a spokesperson for the Arizona attorney general’s office.  The summons is a formal notice that Giuliani has been criminally charged and must appear before a judge on May 21. CNN has reached out to a spokesman for Giuliani for comment. A team of prosecutors and investigators working for Arizona Attorney General Kris Mayes, a Democrat, has made multiple attempts to locate Giuliani, Taylor told CNN. The day after the state-level grand jury handed up its indictment, two agents for the attorney general’s office traveled to New York City with plans to hand-deliver the notice to Giuliani, Taylor said. The agents believed Giuliani was likely in his New York City apartment because he had recently video streamed from there – which they determined by matching the setting of the feed with pictures of the interior of the residence from an old real estate listing. But upon arriving at the building, a person at the front desk told the agents they were not allowed to accept service of the documents, according to Taylor, who added that the individual did not dispute Giuliani lived there. “We were not granted access,” Taylor added, confirming details previously reported by the Washington Post. While Trump is not among those charged in Arizona, the details in the indictment suggest he is “Unindicted Coconspirator 1.” “In Arizona, and the United States, the people elected Joseph Biden as President on November 3, 2020,” the indictment reads. “Unwilling to accept this fact, Defendants and unindicted coconspirators schemed to prevent the lawful transfer of the presidency to keep Unindicted Coconspirator 1 in office against the will of Arizona’s voters.” Trump’s former White House chief of staff Mark Meadows, his close adviser Boris Epshteyn, the Republican National Committee’s top lawyer for “election integrity” Christina Bobb and former Trump campaign aide Mike Roman are among those charged in Arizona alongside Giuliani. All of the defendants except Giuliani have been served.\n",
            "Summary:\n",
            "A team of prosecutors and investigators working for Arizona Attorney General Kris Mayes, a Democrat, has made multiple attempts to locate Giuliani, Taylor told CNN. “We were not granted access,” Taylor added, confirming details previously reported by the Washington Post. The summons is a formal notice that Giuliani has been criminally charged and must appear before a judge on May 21.\n",
            "\n",
            "Sentiment: Negative\n",
            "Sentiment Score: {'neg': 0.06, 'neu': 0.94, 'pos': 0.0, 'compound': -0.3695}\n"
          ]
        }
      ]
    },
    {
      "cell_type": "code",
      "source": [],
      "metadata": {
        "id": "hjjAtMW0c0jw"
      },
      "execution_count": null,
      "outputs": []
    }
  ]
}