{
  "nbformat": 4,
  "nbformat_minor": 0,
  "metadata": {
    "colab": {
      "provenance": []
    },
    "kernelspec": {
      "name": "python3",
      "display_name": "Python 3"
    },
    "language_info": {
      "name": "python"
    }
  },
  "cells": [
    {
      "cell_type": "code",
      "execution_count": 60,
      "metadata": {
        "id": "2lysGTeYcA9D"
      },
      "outputs": [],
      "source": [
        "import nltk\n",
        "from nltk.tokenize import sent_tokenize, word_tokenize\n",
        "from nltk.corpus import stopwords\n",
        "from nltk.probability import FreqDist\n",
        "from nltk.sentiment.vader import SentimentIntensityAnalyzer\n",
        "from nltk.tokenize import RegexpTokenizer\n",
        "import requests"
      ]
    },
    {
      "cell_type": "code",
      "source": [
        "# Download NLTK resources\n",
        "nltk.download('punkt')\n",
        "nltk.download('stopwords')\n",
        "nltk.download('vader_lexicon')"
      ],
      "metadata": {
        "colab": {
          "base_uri": "https://localhost:8080/"
        },
        "id": "vsc00HcWcEJw",
        "outputId": "d96959f5-4f37-4be9-d248-393ee1316818"
      },
      "execution_count": 39,
      "outputs": [
        {
          "output_type": "stream",
          "name": "stderr",
          "text": [
            "[nltk_data] Downloading package punkt to /root/nltk_data...\n",
            "[nltk_data]   Package punkt is already up-to-date!\n",
            "[nltk_data] Downloading package stopwords to /root/nltk_data...\n",
            "[nltk_data]   Package stopwords is already up-to-date!\n",
            "[nltk_data] Downloading package vader_lexicon to /root/nltk_data...\n",
            "[nltk_data]   Package vader_lexicon is already up-to-date!\n"
          ]
        },
        {
          "output_type": "execute_result",
          "data": {
            "text/plain": [
              "True"
            ]
          },
          "metadata": {},
          "execution_count": 39
        }
      ]
    },
    {
      "cell_type": "code",
      "source": [
        "def summarize_text(text):\n",
        "    # Tokenize the text into sentences\n",
        "    sentences = sent_tokenize(text)\n",
        "\n",
        "    # Calculate frequency of each word\n",
        "    word_frequencies = {}\n",
        "    for sentence in sentences:\n",
        "        words = word_tokenize(sentence.lower())\n",
        "        for word in words:\n",
        "            if word not in stopwords.words('english'):\n",
        "                if word not in word_frequencies:\n",
        "                    word_frequencies[word] = 1\n",
        "                else:\n",
        "                    word_frequencies[word] += 1\n",
        "\n",
        "    # Find weighted frequency of each word\n",
        "    max_frequency = max(word_frequencies.values())\n",
        "    for word in word_frequencies.keys():\n",
        "        word_frequencies[word] = (word_frequencies[word] / max_frequency)\n",
        "\n",
        "    # Calculate sentence scores based on word frequencies\n",
        "    sentence_scores = {}\n",
        "    for sentence in sentences:\n",
        "        for word in word_tokenize(sentence.lower()):\n",
        "            if word in word_frequencies.keys():\n",
        "                if len(sentence.split(' ')) < 30:  # Limiting sentence length\n",
        "                    if sentence not in sentence_scores.keys():\n",
        "                        sentence_scores[sentence] = word_frequencies[word]\n",
        "                    else:\n",
        "                        sentence_scores[sentence] += word_frequencies[word]\n",
        "\n",
        "    # Get the top 3 sentences as the summary\n",
        "    summary_sentences = sorted(sentence_scores, key=sentence_scores.get, reverse=True)[:3]\n",
        "    summary = ' '.join(summary_sentences)\n",
        "    return summary"
      ],
      "metadata": {
        "id": "tF8SbF4jcHql"
      },
      "execution_count": 40,
      "outputs": []
    },
    {
      "cell_type": "code",
      "source": [
        "def analyze_bias_and_sentiment(summary):\n",
        "    # Sentiment Analysis\n",
        "    sid = SentimentIntensityAnalyzer()\n",
        "    sentiment_score = sid.polarity_scores(summary)\n",
        "    sentiment = \"Positive\" if sentiment_score['compound'] >= 0 else \"Negative\"\n",
        "\n",
        "    return sentiment, sentiment_score"
      ],
      "metadata": {
        "id": "3Znp-JD-cMDX"
      },
      "execution_count": 41,
      "outputs": []
    },
    {
      "cell_type": "code",
      "source": [
        "def extract_article_content(url, token):\n",
        "    # Construct the API request URL\n",
        "    api_url = f\"https://api.diffbot.com/v3/article\"\n",
        "    params = {\n",
        "        'token': token,\n",
        "        'url': url,\n",
        "    }\n",
        "\n",
        "    # Send the API request\n",
        "    response = requests.get(api_url, params=params)\n",
        "\n",
        "    # Check if the request was successful (status code 200)\n",
        "    if response.status_code == 200:\n",
        "        # Parse the JSON response\n",
        "        data = response.json()\n",
        "\n",
        "        # Check if article extraction was successful\n",
        "        if data.get('objects'):\n",
        "            article_content = data['objects'][0]['text']\n",
        "            return article_content\n",
        "        else:\n",
        "            return \"Failed to extract article content.\"\n",
        "    else:\n",
        "        return \"Failed to retrieve data from Diffbot.\"\n",
        "\n",
        "# Example URL and API token\n",
        "url = input(\"Paste your URL here.\")\n",
        "token = \"API Token Here\"  # Replace this with your Diffbot API token\n",
        "\n",
        "# Extract article content\n",
        "article_content = extract_article_content(url, token)\n",
        "print(article_content)"
      ],
      "metadata": {
        "colab": {
          "base_uri": "https://localhost:8080/"
        },
        "id": "EZaOo-Dz0FrT",
        "outputId": "c342513a-329d-4349-d5e1-13341afc6833"
      },
      "execution_count": 61,
      "outputs": [
        {
          "output_type": "stream",
          "name": "stdout",
          "text": [
            "Paste your URL here.https://apnews.com/article/boeing-justice-department-737-max-82145b25ed988cd8cae0bce3de79ce9d\n",
            "WASHINGTON (AP) — Boeing has violated a settlement that allowed the company to avoid criminal prosecution after two deadly crashes involving its 737 Max aircraft more than five years ago, the Justice Department told a federal judge on Tuesday.\n",
            "It is now up to the Justice Department to decide whether to file charges against Boeing. Prosecutors will tell the court no later than July 7 how they plan to proceed, department said.\n",
            "New 737 Max jets crashed in 2018 in Indonesia and 2019 in Ethiopia, killing 346 people. Boeing reached a $2.5 billion settlement with the Justice Department in January 2021 to avoid prosecution on a single charge of fraud — misleading federal regulators who approved the plane. Boeing blamed the deception on two relatively low-level employees.\n",
            "In a letter filed Tuesday in federal court in Texas, Glenn Leon, head of the Justice Department criminal division’s fraud section, said Boeing violated terms of the settlement by failing to make promised changes to detect and prevent violations of federal anti-fraud laws.\n",
            "The determination means that Boeing could be prosecuted “for any federal criminal violation of which the United States has knowledge,” including the charge of fraud that the company hoped to avoid with the settlement, the Justice Department said.\n",
            "READ MORE\n",
            "However, it is not clear whether the government will prosecute Boeing.\n",
            "“The Government is determining how it will proceed in this matter,” the Justice Department said in the court filing. Boeing will have until June 13 to respond the government’s allegation, and department said it will consider the company’s explanation “in determining whether to pursue prosecution.”\n",
            "Boeing Co., which is based in Arlington, Virginia, disputed the Justice Department’s finding.\n",
            "“We believe that we have honored the terms of that agreement, and look forward to the opportunity to respond to the Department on this issue,” a Boeing spokesperson said in a statement. “As we do so, we will engage with the Department with the utmost transparency, as we have throughout the entire term of the agreement, including in response to their questions following the Alaska Airlines 1282 accident.”\n",
            "Boeing has come under renewed scrutiny since that Alaska Airlines flight in January, when a door plug blew out of a 737 Max, leaving a gaping hole in the side of the jetliner. The company is under multiple investigations into the blowout and its manufacturing quality. The FBI has told passengers from the flight that they might be victims of a crime.\n",
            "Prosecutors said they will meet on May 31 with families of passengers who died in the two Max crashes. Family members were angry and disappointed after a similar meeting last month.\n",
            "Paul Cassell, a lawyer who represents families of passengers in the second crash, said the Justice Department’s determination that Boeing breached the settlement terms is “a positive first step, and for the families, a long time coming.”\n",
            "“But we need to see further action from DOJ to hold Boeing accountable, and plan to use our meeting on May 31 to explain in more details what we believe would be a satisfactory remedy to Boeing’s ongoing criminal conduct,” Cassell said.\n",
            "Investigations into the crashes pointed to a flight-control system that Boeing added to the Max without telling pilots or airlines. Boeing downplayed the significance of the system, then didn’t overhaul it until after the second crash.\n",
            "After secret negotiations, the government agreed not to prosecute Boeing on a charge of defrauding the United States by deceiving regulators about the flight system. The settlement included a $243.6 million fine, a $500 million fund for victim compensation, and nearly $1.8 billion to airlines whose Max jets were grounded for nearly two years.\n",
            "Boeing has faced civil lawsuits, congressional investigations and massive damage to its business since the crashes in Indonesia and Ethiopia.\n",
            "___\n",
            "Koenig reported from Dallas.\n"
          ]
        }
      ]
    },
    {
      "cell_type": "code",
      "source": [
        "#Text Input\n",
        "input_text = article_content\n",
        "\n",
        "# Summarize the input text\n",
        "summary = summarize_text(input_text)\n",
        "\n",
        "# Analyze bias and sentiment of the summary\n",
        "sentiment, sentiment_score = analyze_bias_and_sentiment(summary)\n",
        "\n",
        "print(\"Summary:\")\n",
        "print(summary)\n",
        "print(\"\\nSentiment:\", sentiment)\n",
        "print(\"Sentiment Score:\", sentiment_score)"
      ],
      "metadata": {
        "colab": {
          "base_uri": "https://localhost:8080/"
        },
        "id": "4aBd-YspcQS_",
        "outputId": "5f49d6b8-c3b1-4d14-8770-32a6172e44e0"
      },
      "execution_count": 62,
      "outputs": [
        {
          "output_type": "stream",
          "name": "stdout",
          "text": [
            "Summary:\n",
            "The settlement included a $243.6 million fine, a $500 million fund for victim compensation, and nearly $1.8 billion to airlines whose Max jets were grounded for nearly two years. “The Government is determining how it will proceed in this matter,” the Justice Department said in the court filing. After secret negotiations, the government agreed not to prosecute Boeing on a charge of defrauding the United States by deceiving regulators about the flight system.\n",
            "\n",
            "Sentiment: Positive\n",
            "Sentiment Score: {'neg': 0.056, 'neu': 0.789, 'pos': 0.155, 'compound': 0.7819}\n"
          ]
        }
      ]
    },
    {
      "cell_type": "code",
      "source": [],
      "metadata": {
        "id": "hjjAtMW0c0jw"
      },
      "execution_count": 54,
      "outputs": []
    }
  ]
}